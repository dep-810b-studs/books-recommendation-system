{
 "cells": [
  {
   "cell_type": "markdown",
   "metadata": {},
   "source": [
    "## Гибридные рекомендательные системы с Surprise: взвешенный подход\n",
    "### Мы используем Suprise (пакет sci-kit для рекомендательных систем), чтобы гарантировать, что рекомендательные системы, которые мы используем, оптимизированы, чтобы когда мы объединили их - не беспокоились о недостатках, возникающих в отдельной реализации. "
   ]
  },
  {
   "cell_type": "code",
   "execution_count": 1,
   "metadata": {
    "_cell_guid": "b1076dfc-b9ad-4769-8c92-a6c4dae69d19",
    "_uuid": "8f2839f25d086af736a60e9eeb907d3b93b6e0e5"
   },
   "outputs": [],
   "source": [
    "import surprise\n",
    "from surprise import KNNBasic\n",
    "from surprise import Dataset\n",
    "from surprise import Reader\n",
    "from surprise import model_selection\n",
    "from surprise import accuracy\n",
    "from surprise import prediction_algorithms\n",
    "import pickle\n",
    "\n",
    "\n",
    "import numpy as np \n",
    "import pandas as pd \n",
    "from sklearn.model_selection import train_test_split\n",
    "import os\n",
    "path = \"/\""
   ]
  },
  {
   "cell_type": "markdown",
   "metadata": {},
   "source": [
    "Во-первых, давайте прочитаем и очистим набор данных, чтобы мы знали, с чем работаем.\n",
    "1. Считайте pandas датафрейм ratings.csv\n",
    "2. Удалите дублированные строки\n",
    "3. Сколько уникальных книг и пользователей в датасете?\n",
    "4. В каком интервале рейтинг?"
   ]
  },
  {
   "cell_type": "markdown",
   "metadata": {},
   "source": [
    "### 1. Считайте pandas датафрейм ratings.csv"
   ]
  },
  {
   "cell_type": "code",
   "execution_count": 2,
   "metadata": {},
   "outputs": [
    {
     "data": {
      "text/html": [
       "<div>\n",
       "<style scoped>\n",
       "    .dataframe tbody tr th:only-of-type {\n",
       "        vertical-align: middle;\n",
       "    }\n",
       "\n",
       "    .dataframe tbody tr th {\n",
       "        vertical-align: top;\n",
       "    }\n",
       "\n",
       "    .dataframe thead th {\n",
       "        text-align: right;\n",
       "    }\n",
       "</style>\n",
       "<table border=\"1\" class=\"dataframe\">\n",
       "  <thead>\n",
       "    <tr style=\"text-align: right;\">\n",
       "      <th></th>\n",
       "      <th>book_id</th>\n",
       "      <th>user_id</th>\n",
       "      <th>rating</th>\n",
       "    </tr>\n",
       "  </thead>\n",
       "  <tbody>\n",
       "    <tr>\n",
       "      <th>0</th>\n",
       "      <td>1</td>\n",
       "      <td>314</td>\n",
       "      <td>5</td>\n",
       "    </tr>\n",
       "    <tr>\n",
       "      <th>1</th>\n",
       "      <td>1</td>\n",
       "      <td>439</td>\n",
       "      <td>3</td>\n",
       "    </tr>\n",
       "    <tr>\n",
       "      <th>2</th>\n",
       "      <td>1</td>\n",
       "      <td>588</td>\n",
       "      <td>5</td>\n",
       "    </tr>\n",
       "    <tr>\n",
       "      <th>3</th>\n",
       "      <td>1</td>\n",
       "      <td>1169</td>\n",
       "      <td>4</td>\n",
       "    </tr>\n",
       "    <tr>\n",
       "      <th>4</th>\n",
       "      <td>1</td>\n",
       "      <td>1185</td>\n",
       "      <td>4</td>\n",
       "    </tr>\n",
       "    <tr>\n",
       "      <th>...</th>\n",
       "      <td>...</td>\n",
       "      <td>...</td>\n",
       "      <td>...</td>\n",
       "    </tr>\n",
       "    <tr>\n",
       "      <th>981751</th>\n",
       "      <td>10000</td>\n",
       "      <td>48386</td>\n",
       "      <td>5</td>\n",
       "    </tr>\n",
       "    <tr>\n",
       "      <th>981752</th>\n",
       "      <td>10000</td>\n",
       "      <td>49007</td>\n",
       "      <td>4</td>\n",
       "    </tr>\n",
       "    <tr>\n",
       "      <th>981753</th>\n",
       "      <td>10000</td>\n",
       "      <td>49383</td>\n",
       "      <td>5</td>\n",
       "    </tr>\n",
       "    <tr>\n",
       "      <th>981754</th>\n",
       "      <td>10000</td>\n",
       "      <td>50124</td>\n",
       "      <td>5</td>\n",
       "    </tr>\n",
       "    <tr>\n",
       "      <th>981755</th>\n",
       "      <td>10000</td>\n",
       "      <td>51328</td>\n",
       "      <td>1</td>\n",
       "    </tr>\n",
       "  </tbody>\n",
       "</table>\n",
       "<p>981756 rows × 3 columns</p>\n",
       "</div>"
      ],
      "text/plain": [
       "        book_id  user_id  rating\n",
       "0             1      314       5\n",
       "1             1      439       3\n",
       "2             1      588       5\n",
       "3             1     1169       4\n",
       "4             1     1185       4\n",
       "...         ...      ...     ...\n",
       "981751    10000    48386       5\n",
       "981752    10000    49007       4\n",
       "981753    10000    49383       5\n",
       "981754    10000    50124       5\n",
       "981755    10000    51328       1\n",
       "\n",
       "[981756 rows x 3 columns]"
      ]
     },
     "execution_count": 2,
     "metadata": {},
     "output_type": "execute_result"
    }
   ],
   "source": [
    "ratings = pd.read_csv('./ratings.csv')\n",
    "ratings"
   ]
  },
  {
   "cell_type": "markdown",
   "metadata": {},
   "source": [
    "### 2. Удалите дублированные строки"
   ]
  },
  {
   "cell_type": "code",
   "execution_count": 3,
   "metadata": {},
   "outputs": [
    {
     "data": {
      "text/html": [
       "<div>\n",
       "<style scoped>\n",
       "    .dataframe tbody tr th:only-of-type {\n",
       "        vertical-align: middle;\n",
       "    }\n",
       "\n",
       "    .dataframe tbody tr th {\n",
       "        vertical-align: top;\n",
       "    }\n",
       "\n",
       "    .dataframe thead th {\n",
       "        text-align: right;\n",
       "    }\n",
       "</style>\n",
       "<table border=\"1\" class=\"dataframe\">\n",
       "  <thead>\n",
       "    <tr style=\"text-align: right;\">\n",
       "      <th></th>\n",
       "      <th>book_id</th>\n",
       "      <th>user_id</th>\n",
       "      <th>rating</th>\n",
       "    </tr>\n",
       "  </thead>\n",
       "  <tbody>\n",
       "    <tr>\n",
       "      <th>0</th>\n",
       "      <td>1</td>\n",
       "      <td>314</td>\n",
       "      <td>5</td>\n",
       "    </tr>\n",
       "    <tr>\n",
       "      <th>1</th>\n",
       "      <td>1</td>\n",
       "      <td>439</td>\n",
       "      <td>3</td>\n",
       "    </tr>\n",
       "    <tr>\n",
       "      <th>2</th>\n",
       "      <td>1</td>\n",
       "      <td>588</td>\n",
       "      <td>5</td>\n",
       "    </tr>\n",
       "    <tr>\n",
       "      <th>3</th>\n",
       "      <td>1</td>\n",
       "      <td>1169</td>\n",
       "      <td>4</td>\n",
       "    </tr>\n",
       "    <tr>\n",
       "      <th>4</th>\n",
       "      <td>1</td>\n",
       "      <td>1185</td>\n",
       "      <td>4</td>\n",
       "    </tr>\n",
       "    <tr>\n",
       "      <th>...</th>\n",
       "      <td>...</td>\n",
       "      <td>...</td>\n",
       "      <td>...</td>\n",
       "    </tr>\n",
       "    <tr>\n",
       "      <th>981751</th>\n",
       "      <td>10000</td>\n",
       "      <td>48386</td>\n",
       "      <td>5</td>\n",
       "    </tr>\n",
       "    <tr>\n",
       "      <th>981752</th>\n",
       "      <td>10000</td>\n",
       "      <td>49007</td>\n",
       "      <td>4</td>\n",
       "    </tr>\n",
       "    <tr>\n",
       "      <th>981753</th>\n",
       "      <td>10000</td>\n",
       "      <td>49383</td>\n",
       "      <td>5</td>\n",
       "    </tr>\n",
       "    <tr>\n",
       "      <th>981754</th>\n",
       "      <td>10000</td>\n",
       "      <td>50124</td>\n",
       "      <td>5</td>\n",
       "    </tr>\n",
       "    <tr>\n",
       "      <th>981755</th>\n",
       "      <td>10000</td>\n",
       "      <td>51328</td>\n",
       "      <td>1</td>\n",
       "    </tr>\n",
       "  </tbody>\n",
       "</table>\n",
       "<p>980112 rows × 3 columns</p>\n",
       "</div>"
      ],
      "text/plain": [
       "        book_id  user_id  rating\n",
       "0             1      314       5\n",
       "1             1      439       3\n",
       "2             1      588       5\n",
       "3             1     1169       4\n",
       "4             1     1185       4\n",
       "...         ...      ...     ...\n",
       "981751    10000    48386       5\n",
       "981752    10000    49007       4\n",
       "981753    10000    49383       5\n",
       "981754    10000    50124       5\n",
       "981755    10000    51328       1\n",
       "\n",
       "[980112 rows x 3 columns]"
      ]
     },
     "execution_count": 3,
     "metadata": {},
     "output_type": "execute_result"
    }
   ],
   "source": [
    "ratings.drop_duplicates()"
   ]
  },
  {
   "cell_type": "markdown",
   "metadata": {},
   "source": [
    "### 3. Сколько уникальных книг и пользователей в датасете?"
   ]
  },
  {
   "cell_type": "code",
   "execution_count": 4,
   "metadata": {},
   "outputs": [
    {
     "name": "stdout",
     "output_type": "stream",
     "text": [
      "Count unique books = 10000\n",
      "Count unique users = 53424\n"
     ]
    }
   ],
   "source": [
    "unique_books = ratings['book_id'].unique()\n",
    "unique_users = ratings['user_id'].unique()\n",
    "\n",
    "print(f'Count unique books = {len(unique_books)}')\n",
    "print(f'Count unique users = {len(unique_users)}')"
   ]
  },
  {
   "cell_type": "markdown",
   "metadata": {},
   "source": [
    "### 4. В каком интервале рейтинг?"
   ]
  },
  {
   "cell_type": "code",
   "execution_count": 5,
   "metadata": {},
   "outputs": [
    {
     "name": "stdout",
     "output_type": "stream",
     "text": [
      "Rating has interval 1 - 5\n"
     ]
    }
   ],
   "source": [
    "min_rating = min(ratings['rating'])\n",
    "max_rating = max(ratings['rating'])\n",
    "\n",
    "print(f'Rating has interval {min_rating} - {max_rating}')"
   ]
  },
  {
   "cell_type": "markdown",
   "metadata": {},
   "source": [
    "Всякий раз, когда вы загружаете набор данных в Surprise, вы можете использовать их класс Reader набора данных, который облегчает большую часть проблем. Вы можете указать множество форматов файлов, но для фреймов данных pandas, которые мы используем, вы можете указать некоторые параметры для рейтинга (rating_scale) и фрейма данных."
   ]
  },
  {
   "cell_type": "code",
   "execution_count": 6,
   "metadata": {},
   "outputs": [],
   "source": [
    "#порядок колонок должен быть таким\n",
    "raw=ratings[['user_id','book_id','rating']]\n",
    "raw.columns = ['n_users','n_items','rating']\n",
    "\n",
    "# укажем scale для рейтинга\n",
    "reader = Reader(rating_scale = (min_rating, max_rating)) \n",
    "\n",
    "# разделите на основную и отложенную выборки в соотножении 3:1\n",
    "# и загрузите в surprise dataset:\n",
    "raw_train_raws_count = int (len(ratings) / 4 * 3)\n",
    "raw_holdout_raws_count = int (len(ratings) / 4)\n",
    "raw_train,raw_holdout = raw[:raw_train_raws_count], raw[-raw_holdout_raws_count:]\n",
    "data = Dataset.load_from_df(raw_train, reader)\n",
    "holdout = Dataset.load_from_df(raw_holdout, reader)"
   ]
  },
  {
   "cell_type": "code",
   "execution_count": 7,
   "metadata": {},
   "outputs": [
    {
     "data": {
      "text/html": [
       "<div>\n",
       "<style scoped>\n",
       "    .dataframe tbody tr th:only-of-type {\n",
       "        vertical-align: middle;\n",
       "    }\n",
       "\n",
       "    .dataframe tbody tr th {\n",
       "        vertical-align: top;\n",
       "    }\n",
       "\n",
       "    .dataframe thead th {\n",
       "        text-align: right;\n",
       "    }\n",
       "</style>\n",
       "<table border=\"1\" class=\"dataframe\">\n",
       "  <thead>\n",
       "    <tr style=\"text-align: right;\">\n",
       "      <th></th>\n",
       "      <th>n_users</th>\n",
       "      <th>n_items</th>\n",
       "      <th>rating</th>\n",
       "    </tr>\n",
       "  </thead>\n",
       "  <tbody>\n",
       "    <tr>\n",
       "      <th>0</th>\n",
       "      <td>314</td>\n",
       "      <td>1</td>\n",
       "      <td>5</td>\n",
       "    </tr>\n",
       "    <tr>\n",
       "      <th>1</th>\n",
       "      <td>439</td>\n",
       "      <td>1</td>\n",
       "      <td>3</td>\n",
       "    </tr>\n",
       "    <tr>\n",
       "      <th>2</th>\n",
       "      <td>588</td>\n",
       "      <td>1</td>\n",
       "      <td>5</td>\n",
       "    </tr>\n",
       "    <tr>\n",
       "      <th>3</th>\n",
       "      <td>1169</td>\n",
       "      <td>1</td>\n",
       "      <td>4</td>\n",
       "    </tr>\n",
       "    <tr>\n",
       "      <th>4</th>\n",
       "      <td>1185</td>\n",
       "      <td>1</td>\n",
       "      <td>4</td>\n",
       "    </tr>\n",
       "    <tr>\n",
       "      <th>...</th>\n",
       "      <td>...</td>\n",
       "      <td>...</td>\n",
       "      <td>...</td>\n",
       "    </tr>\n",
       "    <tr>\n",
       "      <th>736312</th>\n",
       "      <td>994</td>\n",
       "      <td>7414</td>\n",
       "      <td>4</td>\n",
       "    </tr>\n",
       "    <tr>\n",
       "      <th>736313</th>\n",
       "      <td>1476</td>\n",
       "      <td>7414</td>\n",
       "      <td>3</td>\n",
       "    </tr>\n",
       "    <tr>\n",
       "      <th>736314</th>\n",
       "      <td>1566</td>\n",
       "      <td>7414</td>\n",
       "      <td>2</td>\n",
       "    </tr>\n",
       "    <tr>\n",
       "      <th>736315</th>\n",
       "      <td>1733</td>\n",
       "      <td>7414</td>\n",
       "      <td>2</td>\n",
       "    </tr>\n",
       "    <tr>\n",
       "      <th>736316</th>\n",
       "      <td>1909</td>\n",
       "      <td>7414</td>\n",
       "      <td>3</td>\n",
       "    </tr>\n",
       "  </tbody>\n",
       "</table>\n",
       "<p>736317 rows × 3 columns</p>\n",
       "</div>"
      ],
      "text/plain": [
       "        n_users  n_items  rating\n",
       "0           314        1       5\n",
       "1           439        1       3\n",
       "2           588        1       5\n",
       "3          1169        1       4\n",
       "4          1185        1       4\n",
       "...         ...      ...     ...\n",
       "736312      994     7414       4\n",
       "736313     1476     7414       3\n",
       "736314     1566     7414       2\n",
       "736315     1733     7414       2\n",
       "736316     1909     7414       3\n",
       "\n",
       "[736317 rows x 3 columns]"
      ]
     },
     "execution_count": 7,
     "metadata": {},
     "output_type": "execute_result"
    }
   ],
   "source": [
    "raw_train"
   ]
  },
  {
   "cell_type": "code",
   "execution_count": 8,
   "metadata": {},
   "outputs": [
    {
     "data": {
      "text/html": [
       "<div>\n",
       "<style scoped>\n",
       "    .dataframe tbody tr th:only-of-type {\n",
       "        vertical-align: middle;\n",
       "    }\n",
       "\n",
       "    .dataframe tbody tr th {\n",
       "        vertical-align: top;\n",
       "    }\n",
       "\n",
       "    .dataframe thead th {\n",
       "        text-align: right;\n",
       "    }\n",
       "</style>\n",
       "<table border=\"1\" class=\"dataframe\">\n",
       "  <thead>\n",
       "    <tr style=\"text-align: right;\">\n",
       "      <th></th>\n",
       "      <th>n_users</th>\n",
       "      <th>n_items</th>\n",
       "      <th>rating</th>\n",
       "    </tr>\n",
       "  </thead>\n",
       "  <tbody>\n",
       "    <tr>\n",
       "      <th>736317</th>\n",
       "      <td>2212</td>\n",
       "      <td>7414</td>\n",
       "      <td>5</td>\n",
       "    </tr>\n",
       "    <tr>\n",
       "      <th>736318</th>\n",
       "      <td>2462</td>\n",
       "      <td>7414</td>\n",
       "      <td>4</td>\n",
       "    </tr>\n",
       "    <tr>\n",
       "      <th>736319</th>\n",
       "      <td>2513</td>\n",
       "      <td>7414</td>\n",
       "      <td>3</td>\n",
       "    </tr>\n",
       "    <tr>\n",
       "      <th>736320</th>\n",
       "      <td>2591</td>\n",
       "      <td>7414</td>\n",
       "      <td>2</td>\n",
       "    </tr>\n",
       "    <tr>\n",
       "      <th>736321</th>\n",
       "      <td>2758</td>\n",
       "      <td>7414</td>\n",
       "      <td>4</td>\n",
       "    </tr>\n",
       "    <tr>\n",
       "      <th>...</th>\n",
       "      <td>...</td>\n",
       "      <td>...</td>\n",
       "      <td>...</td>\n",
       "    </tr>\n",
       "    <tr>\n",
       "      <th>981751</th>\n",
       "      <td>48386</td>\n",
       "      <td>10000</td>\n",
       "      <td>5</td>\n",
       "    </tr>\n",
       "    <tr>\n",
       "      <th>981752</th>\n",
       "      <td>49007</td>\n",
       "      <td>10000</td>\n",
       "      <td>4</td>\n",
       "    </tr>\n",
       "    <tr>\n",
       "      <th>981753</th>\n",
       "      <td>49383</td>\n",
       "      <td>10000</td>\n",
       "      <td>5</td>\n",
       "    </tr>\n",
       "    <tr>\n",
       "      <th>981754</th>\n",
       "      <td>50124</td>\n",
       "      <td>10000</td>\n",
       "      <td>5</td>\n",
       "    </tr>\n",
       "    <tr>\n",
       "      <th>981755</th>\n",
       "      <td>51328</td>\n",
       "      <td>10000</td>\n",
       "      <td>1</td>\n",
       "    </tr>\n",
       "  </tbody>\n",
       "</table>\n",
       "<p>245439 rows × 3 columns</p>\n",
       "</div>"
      ],
      "text/plain": [
       "        n_users  n_items  rating\n",
       "736317     2212     7414       5\n",
       "736318     2462     7414       4\n",
       "736319     2513     7414       3\n",
       "736320     2591     7414       2\n",
       "736321     2758     7414       4\n",
       "...         ...      ...     ...\n",
       "981751    48386    10000       5\n",
       "981752    49007    10000       4\n",
       "981753    49383    10000       5\n",
       "981754    50124    10000       5\n",
       "981755    51328    10000       1\n",
       "\n",
       "[245439 rows x 3 columns]"
      ]
     },
     "execution_count": 8,
     "metadata": {},
     "output_type": "execute_result"
    }
   ],
   "source": [
    "raw_holdout"
   ]
  },
  {
   "cell_type": "markdown",
   "metadata": {},
   "source": [
    "\n",
    "### Во-первых, выберем несколько алгоритмов для включения в наш ансамбль. Это будут\n",
    "1. KNN совместная фильтрация \n",
    "2. Факторизация матрицы\n",
    "3. Совместная фильтрация с совместной кластеризацией\n",
    "4. Совместная фильтрация на основе популярного алгоритма Slope One."
   ]
  },
  {
   "cell_type": "markdown",
   "metadata": {},
   "source": [
    "KNN совместная фильтрация:"
   ]
  },
  {
   "cell_type": "code",
   "execution_count": 9,
   "metadata": {},
   "outputs": [],
   "source": [
    "class Recommender:\n",
    "    \n",
    "    def __init__(self, model, data):\n",
    "        self.__model = model\n",
    "        self.__data = data\n",
    "        self.__rmse = []\n",
    "        self.__k_split = model_selection.split.KFold(n_splits=10, shuffle=True) \n",
    "    \n",
    "    def train(self):\n",
    "        for trainset, testset in self.__k_split.split(self.__data):\n",
    "            self.__model.fit(trainset)\n",
    "            predictions = self.__model.test(testset)\n",
    "            self.__rmse.append(accuracy.rmse(predictions))\n",
    "    \n",
    "    @property\n",
    "    def rmse(self):\n",
    "        return self.__rmse\n",
    "    \n",
    "    @property\n",
    "    def model(self):\n",
    "        return self.__model"
   ]
  },
  {
   "cell_type": "code",
   "execution_count": 10,
   "metadata": {},
   "outputs": [],
   "source": [
    "sim_options = sim_options = {\n",
    "    'name': 'cosine',\n",
    "    'user_based': False\n",
    "    }\n",
    "collabKNN = KNNBasic(k=40,sim_options=sim_options)"
   ]
  },
  {
   "cell_type": "markdown",
   "metadata": {},
   "source": [
    "### Примечание:\n",
    "Решил использовать user based подход, потому что для item based не хватало ОЗУ"
   ]
  },
  {
   "cell_type": "markdown",
   "metadata": {},
   "source": [
    "Обучите модель, предскажите значение на test выборке и запишите значение метрики на каждом фолде"
   ]
  },
  {
   "cell_type": "code",
   "execution_count": 11,
   "metadata": {
    "scrolled": true
   },
   "outputs": [
    {
     "name": "stdout",
     "output_type": "stream",
     "text": [
      "Computing the cosine similarity matrix...\n",
      "Done computing similarity matrix.\n",
      "RMSE: 0.8890\n",
      "Computing the cosine similarity matrix...\n",
      "Done computing similarity matrix.\n",
      "RMSE: 0.8883\n",
      "Computing the cosine similarity matrix...\n",
      "Done computing similarity matrix.\n",
      "RMSE: 0.8849\n",
      "Computing the cosine similarity matrix...\n",
      "Done computing similarity matrix.\n",
      "RMSE: 0.8851\n",
      "Computing the cosine similarity matrix...\n",
      "Done computing similarity matrix.\n",
      "RMSE: 0.8860\n",
      "Computing the cosine similarity matrix...\n",
      "Done computing similarity matrix.\n",
      "RMSE: 0.8876\n",
      "Computing the cosine similarity matrix...\n",
      "Done computing similarity matrix.\n",
      "RMSE: 0.8880\n",
      "Computing the cosine similarity matrix...\n",
      "Done computing similarity matrix.\n",
      "RMSE: 0.8868\n",
      "Computing the cosine similarity matrix...\n",
      "Done computing similarity matrix.\n",
      "RMSE: 0.8883\n",
      "Computing the cosine similarity matrix...\n",
      "Done computing similarity matrix.\n",
      "RMSE: 0.8855\n"
     ]
    }
   ],
   "source": [
    "knn_recommender = Recommender(collabKNN, data)\n",
    "knn_recommender.train()"
   ]
  },
  {
   "cell_type": "markdown",
   "metadata": {},
   "source": [
    "### Вы можете пробовать разные гиперпараметры, используя Suprise Grid Search CV, чтобы найти наилучшие возможные гиперпараметры."
   ]
  },
  {
   "cell_type": "markdown",
   "metadata": {},
   "source": [
    "\n",
    "### Обучим наш алгоритм матричной факторизации с 30 скрытыми факторами (n_factors=30)\n"
   ]
  },
  {
   "cell_type": "code",
   "execution_count": 12,
   "metadata": {},
   "outputs": [],
   "source": [
    "funkSVD = prediction_algorithms.matrix_factorization.SVD(n_factors=30,n_epochs=10,biased=True)"
   ]
  },
  {
   "cell_type": "markdown",
   "metadata": {},
   "source": [
    "Обучите модель, предскажите значение на test выборке и запишите значение метрики на каждом фолде"
   ]
  },
  {
   "cell_type": "code",
   "execution_count": 13,
   "metadata": {},
   "outputs": [
    {
     "name": "stdout",
     "output_type": "stream",
     "text": [
      "RMSE: 0.8459\n",
      "RMSE: 0.8418\n",
      "RMSE: 0.8474\n",
      "RMSE: 0.8462\n",
      "RMSE: 0.8484\n",
      "RMSE: 0.8485\n",
      "RMSE: 0.8466\n",
      "RMSE: 0.8470\n",
      "RMSE: 0.8491\n",
      "RMSE: 0.8501\n"
     ]
    }
   ],
   "source": [
    "svd_recommender = Recommender(funkSVD, data)\n",
    "svd_recommender.train()"
   ]
  },
  {
   "cell_type": "markdown",
   "metadata": {},
   "source": [
    "\n",
    "Теперь используем совместную фильтрацию с кластеризацией.\n",
    "Совместная кластеризация - это объединение пользователей и элементов в кластеры с использованием методов кластеризации. Выделите три кластера. Чтобы получить прогнозируемый рейтинг, вам нужно будет суммировать три вещи:\n",
    "     1. Вы находите кластер для указанного рейтинга пользователя u и элемента i и определяете среднее значение этого кластера. Итак, вы найдете среднее значение кластера u_i.\n",
    "     2. Найдите среднее значение кластера элемента i и вычтите его из среднего рейтинга этого элемента.\n",
    "     3. Найдите среднее значение кластера пользователя u и вычтите его из среднего рейтинга этого пользователя.\n",
    "    \n",
    "Вы обнаружите, что для большинства из них RSME остается неизменным для всех K-фолдов."
   ]
  },
  {
   "cell_type": "markdown",
   "metadata": {},
   "source": [
    "Обучите модель, предскажите значение на test выборке и запишите значение метрики на каждом фолде"
   ]
  },
  {
   "cell_type": "code",
   "execution_count": 14,
   "metadata": {},
   "outputs": [],
   "source": [
    "coClus = surprise.prediction_algorithms.co_clustering.CoClustering(n_cltr_u=4,n_cltr_i=4,n_epochs=25) "
   ]
  },
  {
   "cell_type": "code",
   "execution_count": 15,
   "metadata": {},
   "outputs": [
    {
     "name": "stdout",
     "output_type": "stream",
     "text": [
      "RMSE: 0.8752\n",
      "RMSE: 0.8740\n",
      "RMSE: 0.8748\n",
      "RMSE: 0.8760\n",
      "RMSE: 0.8743\n",
      "RMSE: 0.8761\n",
      "RMSE: 0.8742\n",
      "RMSE: 0.8736\n",
      "RMSE: 0.8747\n",
      "RMSE: 0.8736\n"
     ]
    }
   ],
   "source": [
    "co_clusterning_recommender = Recommender(coClus, data)\n",
    "co_clusterning_recommender.train()"
   ]
  },
  {
   "cell_type": "markdown",
   "metadata": {},
   "source": [
    "Обучая нашу последнюю модель, мы будем использовать алгоритм совместной фильтрации Slope One. Этот алгоритм вычисляет наклон (slope) каждого из релевантных элементов, оцененных пользователем, находит разницу, а затем вычисляет прогноз. Это грубый инструмент, но это хорошая эвристика, которая может улучшить наш метод ансамбля. Подробнее читайте здесь: https://arxiv.org/abs/cs/0702144."
   ]
  },
  {
   "cell_type": "markdown",
   "metadata": {},
   "source": [
    "Обучите модель, предскажите значение на test выборке и запишите значение метрики на каждом фолде"
   ]
  },
  {
   "cell_type": "code",
   "execution_count": 16,
   "metadata": {},
   "outputs": [],
   "source": [
    "slopeOne = prediction_algorithms.slope_one.SlopeOne()"
   ]
  },
  {
   "cell_type": "code",
   "execution_count": 17,
   "metadata": {},
   "outputs": [
    {
     "name": "stdout",
     "output_type": "stream",
     "text": [
      "RMSE: 0.8887\n",
      "RMSE: 0.8908\n",
      "RMSE: 0.8904\n",
      "RMSE: 0.8899\n",
      "RMSE: 0.8885\n",
      "RMSE: 0.8867\n",
      "RMSE: 0.8901\n",
      "RMSE: 0.8962\n",
      "RMSE: 0.8887\n",
      "RMSE: 0.8885\n"
     ]
    }
   ],
   "source": [
    "slope_one_recommender = Recommender(slopeOne, data)\n",
    "slope_one_recommender.train()"
   ]
  },
  {
   "cell_type": "markdown",
   "metadata": {},
   "source": [
    "Теперь у нас есть четыре рекомендательные системы, из которых мы хотим сделать ансамбль. Сначала давайте построим график каждого из них, чтобы увидеть, как они работают.\n",
    "\n",
    "Затем реализуем описанный алгоритм Ensemble для гибридного подхода."
   ]
  },
  {
   "cell_type": "code",
   "execution_count": 18,
   "metadata": {},
   "outputs": [
    {
     "data": {
      "text/plain": [
       "<matplotlib.legend.Legend at 0x21340122c10>"
      ]
     },
     "execution_count": 18,
     "metadata": {},
     "output_type": "execute_result"
    },
    {
     "data": {
      "image/png": "[encoded data removed]",
      "text/plain": [
       "<Figure size 432x288 with 1 Axes>"
      ]
     },
     "metadata": {
      "needs_background": "light"
     },
     "output_type": "display_data"
    }
   ],
   "source": [
    "#Отобразим предсказания:\n",
    "import matplotlib.pyplot as plt\n",
    "modelPrediction = plt.plot(knn_recommender.rmse, label='knn')\n",
    "modelPrediction = plt.plot(svd_recommender.rmse, label='svd')\n",
    "modelPrediction = plt.plot(co_clusterning_recommender.rmse, label='cluster')\n",
    "modelPrediction = plt.plot(slope_one_recommender.rmse, label='slope')\n",
    "\n",
    "modelPrediction = plt.xlabel('folds')\n",
    "modelPrediction = plt.ylabel('rmse')\n",
    "plt.legend(bbox_to_anchor=(1.05, 1), loc=2, borderaxespad=0.)"
   ]
  },
  {
   "cell_type": "markdown",
   "metadata": {},
   "source": [
    "Похоже, что svd превосходит остальные. Попробуем гибридизировать модели, чтобы получить лучшие части каждой модели. Для этого мы собираемся использовать Suprise, чтобы создать новый алгоритм, и сделать так, чтобы он превосходил остальные."
   ]
  },
  {
   "cell_type": "markdown",
   "metadata": {},
   "source": [
    "\n",
    "# На псевдокоде наш алгоритм выглядит следующим образом:\n",
    "1. Мы запускаем несколько рекомендательных систем для набора данных.\n",
    "2. Инициализируем взвешенную переменную alpha равную 1 / q, где q - количество используемых нами рекомендательных систем.\n",
    "3. Итоговый рейтинг будем считать как сумму взвещаных прогнозируемых рейтингов.\n",
    "4. Используя градиентный спуск, оптимизируем альфа-член по пространству параметров, чтобы иметь возможность придать наибольший вес модели, которая может представлять лучший прогноз."
   ]
  },
  {
   "cell_type": "markdown",
   "metadata": {},
   "source": [
    "Теперь создадим класс в Surprise и унаследуем его от Algobase."
   ]
  },
  {
   "cell_type": "code",
   "execution_count": 49,
   "metadata": {},
   "outputs": [],
   "source": [
    "class HybridFacto(surprise.AlgoBase):\n",
    "    \n",
    "    def __init__(self, estimators=None, epochs=10, learning_rate=.05, q=4):\n",
    "        if estimators is None:\n",
    "            self.__stub_mode = True\n",
    "            return\n",
    "        self.alpha = np.array([1 / q] * q)\n",
    "        self.epochs = epochs\n",
    "        self.learning_rate = learning_rate\n",
    "        self.collabKNN = estimators[0]\n",
    "        self.funkSVD = estimators[1]\n",
    "        self.coClus = estimators[2]\n",
    "        self.slopeOne = estimators[3]\n",
    "        self.__stub_mode = False\n",
    "    \n",
    "    def fit(self, train_set):\n",
    "        holdout=train_set.build_full_trainset().build_testset()\n",
    "        predictions = []\n",
    "        predictions.append(self.collabKNN.test(holdout))\n",
    "        predictions.append(self.funkSVD.test(holdout))\n",
    "        predictions.append(self.coClus.test(holdout))\n",
    "        predictions.append(self.slopeOne.test(holdout))\n",
    "        for epoch in range(self.epochs):\n",
    "            maeGradient = np.array([surprise.accuracy.mae(prediction) for prediction in predictions])\n",
    "            newalpha =  self.alpha - maeGradient * self.learning_rate\n",
    "            #проверка сходимости:\n",
    "            if (newalpha - self.alpha).max() < 0.001:\n",
    "                break\n",
    "            self.alpha = newalpha\n",
    "            \n",
    "    def estimate(self,testset):\n",
    "        if self.__stub_mode:\n",
    "            return [0.0]\n",
    "        algoResults=[np.array([i.est for i in self.collabKNN.test(testset)]),\n",
    "                     np.array([i.est for i in self.funkSVD.test(testset)]),\n",
    "                     np.array([i.est for i in self.coClus.test(testset)]),\n",
    "                     np.array([i.est for i in self.slopeOne.test(testset)])]\n",
    "        return self.alpha @ algoResults\n",
    "        \n",
    "        \n",
    "    def dump_instance(self, dump_path):\n",
    "        with open(dump_path, 'wb') as dump_file:\n",
    "            pickle.dump(self, dump_file, pickle.HIGHEST_PROTOCOL)\n",
    "     \n",
    "    \n",
    "    @staticmethod\n",
    "    def load_instance_from_dump(dump_path):\n",
    "        with open(dump_path, 'rb') as dump_file:\n",
    "            return pickle.load(dump_file)\n",
    "        "
   ]
  },
  {
   "cell_type": "markdown",
   "metadata": {},
   "source": [
    "давайте проверим его:\n",
    "1. Инициализруйте Гибридную модель с 10 эпохами, learning_rate = 0.05, по 4 имеющимся моделям и обучите на holdout выборке\n",
    "2. Посчитайте root mean squared error с использованием метрики из sklearn для получившегося результата\n",
    "3. Отобразите на графике результаты метрики, полученые от одиночных моделей на предыдущих шагах вместе с результатом гибридной модели. Оцените результат"
   ]
  },
  {
   "cell_type": "code",
   "execution_count": 50,
   "metadata": {},
   "outputs": [
    {
     "name": "stdout",
     "output_type": "stream",
     "text": [
      "MAE:  0.6032\n",
      "MAE:  0.6275\n",
      "MAE:  0.5886\n",
      "MAE:  0.3314\n"
     ]
    }
   ],
   "source": [
    "from sklearn.metrics import mean_squared_error\n",
    "from math import sqrt\n",
    "\n",
    "estimators = [knn_recommender.model,\\\n",
    "              svd_recommender.model,\\\n",
    "              co_clusterning_recommender.model,\\\n",
    "              slope_one_recommender.model]\n",
    "\n",
    "hybrid = HybridFacto(estimators)\n",
    "hybrid.fit(data)\n",
    "kSplit = model_selection.split.KFold(n_splits=10, shuffle=True)\n",
    "\n",
    "rmseHyb = []\n",
    "for trainset, testset in kSplit.split(data):\n",
    "    predhybrid = hybrid.estimate(testset)\n",
    "    test_r = [i[2] for i in testset]\n",
    "    fold_rmse = mean_squared_error(test_r, predhybrid)\n",
    "    rmseHyb.append(fold_rmse)"
   ]
  },
  {
   "cell_type": "code",
   "execution_count": 51,
   "metadata": {},
   "outputs": [
    {
     "data": {
      "text/plain": [
       "<matplotlib.legend.Legend at 0x2136217d070>"
      ]
     },
     "execution_count": 51,
     "metadata": {},
     "output_type": "execute_result"
    },
    {
     "data": {
      "image/png": "[encoded data removed]",
      "text/plain": [
       "<Figure size 432x288 with 1 Axes>"
      ]
     },
     "metadata": {
      "needs_background": "light"
     },
     "output_type": "display_data"
    }
   ],
   "source": [
    "#plotting the prediction data:\n",
    "modelPrediction = plt.plot(knn_recommender.rmse, label='knn')\n",
    "modelPrediction = plt.plot(svd_recommender.rmse, label='svd')\n",
    "modelPrediction = plt.plot(co_clusterning_recommender.rmse, label='cluster')\n",
    "modelPrediction = plt.plot(slope_one_recommender.rmse, label='slope')\n",
    "modelPrediction = plt.plot(rmseHyb, label='hybrid')\n",
    "\n",
    "modelPrediction = plt.xlabel('folds')\n",
    "modelPrediction = plt.ylabel('rmse')\n",
    "plt.legend(bbox_to_anchor=(1.05, 1), loc=2, borderaxespad=0.)"
   ]
  },
  {
   "cell_type": "markdown",
   "metadata": {},
   "source": [
    "## Задание\n",
    "\n",
    "Сохраните обученные модели для использования гибридного подхода и реализуйте возможность предсказания результата для id пользователя и фильма через веб-интерфейс с помощью REST-API фреймворка (flask/django)"
   ]
  },
  {
   "cell_type": "code",
   "execution_count": 52,
   "metadata": {},
   "outputs": [],
   "source": [
    "hybrid.dump_instance('./recommender.pkl')"
   ]
  },
  {
   "cell_type": "code",
   "execution_count": 42,
   "metadata": {},
   "outputs": [],
   "source": [
    "hybrid_loaded_from_dump = HybridFacto.load_instance_from_dump('./recommender.pkl')"
   ]
  },
  {
   "cell_type": "code",
   "execution_count": 62,
   "metadata": {},
   "outputs": [
    {
     "name": "stdout",
     "output_type": "stream",
     "text": [
      "[3.96746139]\n"
     ]
    }
   ],
   "source": [
    "to_predict = [(1, 100, 0)]\n",
    "predicted = hybrid_loaded_from_dump.estimate(to_predict)\n",
    "print(predicted)"
   ]
  },
  {
   "cell_type": "code",
   "execution_count": 48,
   "metadata": {},
   "outputs": [
    {
     "name": "stdout",
     "output_type": "stream",
     "text": [
      "[0.0]\n"
     ]
    }
   ],
   "source": [
    "hybrid_stub = HybridFacto()\n",
    "to_predict = [(2799, 7033, 5.0)]\n",
    "predicted = hybrid_stub.estimate(to_predict)\n",
    "print(predicted)"
   ]
  }
 ],
 "metadata": {
  "kernelspec": {
   "display_name": "Python 3",
   "language": "python",
   "name": "python3"
  },
  "language_info": {
   "codemirror_mode": {
    "name": "ipython",
    "version": 3
   },
   "file_extension": ".py",
   "mimetype": "text/x-python",
   "name": "python",
   "nbconvert_exporter": "python",
   "pygments_lexer": "ipython3",
   "version": "3.8.0"
  }
 },
 "nbformat": 4,
 "nbformat_minor": 1
}
